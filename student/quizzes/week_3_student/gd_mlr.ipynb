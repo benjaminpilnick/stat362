{
 "cells": [
  {
   "cell_type": "raw",
   "id": "310cc7dd-491a-44f7-8851-0a3861c61e8f",
   "metadata": {
    "vscode": {
     "languageId": "raw"
    }
   },
   "source": [
    "---\n",
    "title: \"Quiz 2: Multiple Linear Regression with Gradient Descent\"\n",
    "format:\n",
    "  html:\n",
    "    toc: true\n",
    "    toc-title: Contents\n",
    "    toc-depth: 4\n",
    "    number-sections: true\n",
    "    code-fold: show\n",
    "    self-contained: true\n",
    "jupyter: python3\n",
    "---"
   ]
  },
  {
   "cell_type": "markdown",
   "id": "92485c6b-75a4-4e2a-8794-84338e0db8bc",
   "metadata": {},
   "source": [
    "\n",
    " Now you're ready to tackle the real world, where house prices depend on more than just square footage. In this lab, you'll build a **multi-feature prediction model** that considers size, bedrooms, floors, and age simultaneously!\n",
    "\n",
    "## 🏠 Real Estate Challenge: The Complete Picture\n",
    "\n",
    "While single-variable regression was a great start, real estate pricing is much more complex:\n",
    "\n",
    "- **Size matters** - but so does the number of **bedrooms**\n",
    "- **Multiple floors** can increase value significantly  \n",
    "- **Age of the house** often affects market price\n",
    "- **All features interact** to determine the final price\n",
    "\n",
    "Your mission: Build a sophisticated model that captures these complex relationships!\n",
    "\n",
    "##  What You'll Master in This Lab\n",
    "\n",
    "1. **Multiple Linear Regression** - Handle multiple input features simultaneously\n",
    "2. **Vector Operations in NumPy** - Leverage efficient mathematical computations\n",
    "3. **Feature Scaling Techniques** - Ensure optimal algorithm performance\n",
    "4. **Gradient Descent for Multiple Variables** - Extend your optimization skills"
   ]
  },
  {
   "cell_type": "code",
   "execution_count": 5,
   "id": "864c8464-0e4d-4094-8c3a-94c63feed394",
   "metadata": {},
   "outputs": [],
   "source": [
    "import copy, math\n",
    "import numpy as np\n",
    "import matplotlib.pyplot as plt\n",
    "# plt.style.use('./deeplearning.mplstyle')\n",
    "np.set_printoptions(precision=2) "
   ]
  },
  {
   "cell_type": "code",
   "execution_count": 6,
   "id": "118779ce-9bce-4a74-9017-02bd84ddb7d2",
   "metadata": {},
   "outputs": [],
   "source": [
    "# load the dataset\n",
    "data = np.loadtxt(\"Datasets/houses.txt\", delimiter=',')\n",
    "X_train, y_train = data[:,:-1], data[:,-1]"
   ]
  },
  {
   "cell_type": "code",
   "execution_count": 7,
   "id": "cea1c2cf-5411-446d-ad6c-3f4fe97a207f",
   "metadata": {},
   "outputs": [
    {
     "name": "stdout",
     "output_type": "stream",
     "text": [
      "X Shape: (100, 4), X Type:<class 'numpy.ndarray'>)\n",
      "y Shape: (100,), y Type:<class 'numpy.ndarray'>)\n"
     ]
    }
   ],
   "source": [
    "# data is stored in numpy array/matrix\n",
    "print(f\"X Shape: {X_train.shape}, X Type:{type(X_train)})\")\n",
    "print(f\"y Shape: {y_train.shape}, y Type:{type(y_train)})\")"
   ]
  },
  {
   "cell_type": "code",
   "execution_count": 8,
   "id": "3b315340-f5fc-4406-b634-7ce8054c91fa",
   "metadata": {
    "scrolled": true
   },
   "outputs": [
    {
     "name": "stdout",
     "output_type": "stream",
     "text": [
      "w_init shape: (4,), b_init type: <class 'float'>\n"
     ]
    }
   ],
   "source": [
    "\n",
    "b_init = 785.1811367994083\n",
    "w_init = np.array([ 0.39133535, 18.75376741, -53.36032453, -26.42131618])\n",
    "print(f\"w_init shape: {w_init.shape}, b_init type: {type(b_init)}\")"
   ]
  },
  {
   "cell_type": "markdown",
   "id": "ae34961b-cd4b-46e9-9842-faf47ba20a8c",
   "metadata": {},
   "source": [
    "##  MLR: Single Prediction\n",
    "\n",
    "For a single prediction, you can use loop vs vector way\n",
    "\n",
    "**Loop Notation**\n",
    "\n",
    "$$ f_{\\mathbf{w},b}(\\mathbf{x}) =  w_0x_0 + w_1x_1 +... + w_{n-1}x_{n-1} + b \\tag{1}$$\n",
    "\n",
    "**Vector Notation (The Elegant Way):**\n",
    "\n",
    "$$\n",
    "f_{\\mathbf{w},b}(\\mathbf{x}) = \\mathbf{w} \\cdot \\mathbf{x} + b \\quad (2)\n",
    "$$\n",
    "\n",
    "where $\\cdot$ is a vector **dot product**.\n"
   ]
  },
  {
   "cell_type": "markdown",
   "id": "c3cfa9f0-0aa6-47ec-b810-674ceff9bb42",
   "metadata": {},
   "source": [
    "###  Single Prediction, loop"
   ]
  },
  {
   "cell_type": "code",
   "execution_count": 12,
   "id": "f75700b9-0e9e-491f-8da3-836705922afb",
   "metadata": {},
   "outputs": [],
   "source": [
    "def predict_single_loop(x, w, b): \n",
    "    \"\"\"\n",
    "    single predict using linear regression\n",
    "    \n",
    "    Args:\n",
    "      x (ndarray): Shape (m,) example with multiple features\n",
    "      w (ndarray): Shape (m,) model parameters, each feature has a weight/parameter    \n",
    "      b (scalar):  model bias parameter     \n",
    "      \n",
    "    Returns:\n",
    "      p (scalar):  prediction\n",
    "    \"\"\"\n",
    "    m = x.shape[0]\n",
    "    p = 0\n",
    "    for i in range(m):\n",
    "        p_i = x[i] * w[i]  \n",
    "        p = p + p_i         \n",
    "    p = p + b                \n",
    "    return p"
   ]
  },
  {
   "cell_type": "code",
   "execution_count": 13,
   "id": "305051d7-a634-49dc-997b-b57f234f2f23",
   "metadata": {},
   "outputs": [
    {
     "name": "stdout",
     "output_type": "stream",
     "text": [
      "x_vec shape (4,), x_vec value: [952.   2.   1.  65.]\n",
      "f_wb shape (), prediction: -575.5059514105919\n"
     ]
    }
   ],
   "source": [
    "# get a row from our training data\n",
    "x_vec = X_train[0,:]\n",
    "print(f\"x_vec shape {x_vec.shape}, x_vec value: {x_vec}\")\n",
    "\n",
    "# make a prediction\n",
    "f_wb = predict_single_loop(x_vec, w_init, b_init)\n",
    "print(f\"f_wb shape {f_wb.shape}, prediction: {f_wb}\")"
   ]
  },
  {
   "cell_type": "markdown",
   "id": "a8e911fe-22b1-4e81-8413-ad063a6e131f",
   "metadata": {},
   "source": [
    "Note the shape of `x_vec`. It is a 1-D NumPy vector with 4 elements, (4,). The result, `f_wb` is a scalar."
   ]
  },
  {
   "cell_type": "markdown",
   "id": "5ef0a913-c24e-409d-86c7-8587521bb24a",
   "metadata": {},
   "source": [
    "###  Single Prediction, vector"
   ]
  },
  {
   "cell_type": "markdown",
   "id": "2613f470-db91-48d2-9126-aa8f96754375",
   "metadata": {},
   "source": [
    "\n",
    "\n",
    "Noting that equation (1) above can be implemented using the dot product as in (2) above. We can make use of vector operations to simplify predictions.\n",
    "\n",
    "Recall from the Python/Numpy lab that NumPy `np.dot()`[[link](https://numpy.org/doc/stable/reference/generated/numpy.dot.html)] can be used to perform a vector dot product. "
   ]
  },
  {
   "cell_type": "code",
   "execution_count": 7,
   "id": "17f211bf-aa75-457b-bc20-2d422a2eb4bd",
   "metadata": {},
   "outputs": [],
   "source": [
    "def predict(x, w, b): \n",
    "    \"\"\"\n",
    "    single predict using linear regression\n",
    "    Args:\n",
    "      x (ndarray): Shape (m,) example with multiple features\n",
    "      w (ndarray): Shape (m,) model parameters   \n",
    "      b (scalar):             model parameter \n",
    "      \n",
    "    Returns:\n",
    "      p (scalar):  prediction\n",
    "    \"\"\"\n",
    "    p = np.dot(x, w) + b     \n",
    "    return p   "
   ]
  },
  {
   "cell_type": "code",
   "execution_count": 8,
   "id": "e8e2331d-1cbc-4bf7-ba97-a9350ceb358b",
   "metadata": {},
   "outputs": [
    {
     "name": "stdout",
     "output_type": "stream",
     "text": [
      "x_vec shape (4,), x_vec value: [952.   2.   1.  65.]\n",
      "f_wb shape (), prediction: -575.5059514105919\n"
     ]
    }
   ],
   "source": [
    "# get a row from our training data\n",
    "x_vec = X_train[0,:]\n",
    "print(f\"x_vec shape {x_vec.shape}, x_vec value: {x_vec}\")\n",
    "\n",
    "# make a prediction\n",
    "f_wb = predict(x_vec,w_init, b_init)\n",
    "print(f\"f_wb shape {f_wb.shape}, prediction: {f_wb}\")"
   ]
  },
  {
   "cell_type": "markdown",
   "id": "69b24cb5-156a-46ae-972a-b174e758d795",
   "metadata": {},
   "source": [
    "Both approaches produce identical results, but understanding both will make you a stronger programmer!\n",
    "\n",
    "### Why Learn Both Methods? \n",
    "\n",
    "- **Loop Method**: Builds mathematical intuition  \n",
    "- **Vector Method**: Professional-grade efficiency\n",
    "- **Foundation**: Prepares you for DL\n",
    "\n",
    "##  Understanding `np.dot` - The Heart of DL\n",
    "\n",
    "`np.dot` is fundamental in machine learning - it's the building block of neural networks and matrix operations.\n",
    "\n",
    "### 🧮 What is a Dot Product?\n",
    "\n",
    "<img src=\"https://media.geeksforgeeks.org/wp-content/uploads/20190413155221/dotproduct.png\" width=\"600\" height=\"300\">\n",
    "\n",
    "**Simple definition:** Multiply corresponding elements, then sum them up.\n",
    "\n",
    "$$\\text{dot product} = \\sum_{i=0}^{n-1} a_i \\times b_i$$\n",
    "\n",
    "**Example:** `[1,2,3] · [4,5,6] = (1×4) + (2×5) + (3×6) = 4 + 10 + 18 = 32`"
   ]
  },
  {
   "cell_type": "code",
   "execution_count": 15,
   "id": "0c54d154",
   "metadata": {},
   "outputs": [
    {
     "name": "stdout",
     "output_type": "stream",
     "text": [
      "NumPy 1-D np.dot(a, b) = 24, np.dot(a, b).shape = () \n",
      "NumPy 1-D np.dot(b, a) = 24, np.dot(a, b).shape = () \n"
     ]
    }
   ],
   "source": [
    "# test 1-D\n",
    "a = np.array([1, 2, 3, 4])\n",
    "b = np.array([-1, 4, 3, 2])\n",
    "c = np.dot(a, b)\n",
    "print(f\"NumPy 1-D np.dot(a, b) = {c}, np.dot(a, b).shape = {c.shape} \") \n",
    "c = np.dot(b, a)\n",
    "print(f\"NumPy 1-D np.dot(b, a) = {c}, np.dot(a, b).shape = {c.shape} \")"
   ]
  },
  {
   "cell_type": "markdown",
   "id": "f2211356",
   "metadata": {},
   "source": [
    "###  Speed Test: Loops vs Vectorization"
   ]
  },
  {
   "cell_type": "code",
   "execution_count": 16,
   "id": "99a59c82",
   "metadata": {},
   "outputs": [],
   "source": [
    "def my_dot(a, b): \n",
    "    \"\"\"\n",
    "   Compute the dot product of two vectors\n",
    " \n",
    "    Args:\n",
    "      a (ndarray (n,)):  input vector \n",
    "      b (ndarray (n,)):  input vector with same dimension as a\n",
    "    \n",
    "    Returns:\n",
    "      x (scalar): \n",
    "    \"\"\"\n",
    "    x=0\n",
    "    for i in range(a.shape[0]):\n",
    "        x = x + a[i] * b[i]\n",
    "    return x"
   ]
  },
  {
   "cell_type": "code",
   "execution_count": 17,
   "id": "6ede9730",
   "metadata": {},
   "outputs": [
    {
     "name": "stdout",
     "output_type": "stream",
     "text": [
      "np.dot(a, b) =  2501072.5817\n",
      "Vectorized version duration: 2.6832 ms \n",
      "my_dot(a, b) =  2501072.5817\n",
      "loop version duration: 1483.2039 ms \n"
     ]
    }
   ],
   "source": [
    "import time\n",
    "np.random.seed(1)\n",
    "a = np.random.rand(10000000)  # very large arrays\n",
    "b = np.random.rand(10000000)\n",
    "\n",
    "tic = time.time()  # capture start time\n",
    "c = np.dot(a, b)\n",
    "toc = time.time()  # capture end time\n",
    "\n",
    "print(f\"np.dot(a, b) =  {c:.4f}\")\n",
    "print(f\"Vectorized version duration: {1000*(toc-tic):.4f} ms \")\n",
    "\n",
    "tic = time.time()  # capture start time\n",
    "c = my_dot(a,b)\n",
    "toc = time.time()  # capture end time\n",
    "\n",
    "print(f\"my_dot(a, b) =  {c:.4f}\")\n",
    "print(f\"loop version duration: {1000*(toc-tic):.4f} ms \")\n",
    "\n",
    "del(a);del(b)  #remove these big arrays from memory"
   ]
  },
  {
   "cell_type": "markdown",
   "id": "eb72428e",
   "metadata": {},
   "source": [
    "\n",
    "**The performance gap isn't just impressive - it's production-critical!**\n",
    "\n",
    "###  The Technology Behind the Speed\n",
    "\n",
    "- **SIMD Processing**: Your CPU executes operations on multiple numbers simultaneously\n",
    "- **Optimized Libraries**: NumPy uses battle-tested C/Fortran libraries (BLAS, LAPACK)\n",
    "- **Memory Efficiency**: Better cache usage and reduced overhead\n",
    "\n",
    "###  Real-World Impact\n",
    "\n",
    "- **Training Speed**: 10x-100x faster on large datasets  \n",
    "- **Production Systems**: Faster inference = better user experience\n",
    "- **Scalability**: Essential for deep learning and big data applications\n",
    "\n",
    "**Bottom Line:** Loops teach the math, vectorization makes it production-ready!"
   ]
  },
  {
   "cell_type": "markdown",
   "id": "4f81dea2-f84d-497f-ac18-f5fbddd466a3",
   "metadata": {},
   "source": [
    "## Gradient Descent for Multiple Linear Regression\n",
    "You will implement gradient descent algorithm for multiple features. As in the last lab, you will need three functions.\n",
    "\n",
    "- `compute_cost`\n",
    "- `compute_gradient`\n",
    "- `gradient_descent`\n",
    "\n",
    "Conventions:\n",
    "- The naming of python variables containing partial derivatives follows this pattern,$\\frac{\\partial J(w,b)}{\\partial b}$  will be `dj_db`.\n",
    "- w.r.t is With Respect To, as in partial derivative of $J(w, b)$ With Respect To $b$."
   ]
  },
  {
   "cell_type": "markdown",
   "id": "cad29424-8255-4e6c-b0e6-68564264f2a7",
   "metadata": {},
   "source": [
    "### Compute Cost With Multiple Variables\n",
    "The equation for the cost function with multiple variables $J(\\mathbf{w},b)$ is:\n",
    "\n",
    "$$\n",
    "J(\\mathbf{w}, b) = \\frac{1}{2m} \\sum_{i = 0}^{m-1} \\Big(f_{\\mathbf{w},b}(\\mathbf{x}^{(i)}) - y^{(i)}\\Big)^2 \\quad (3)\n",
    "$$\n",
    "\n",
    "where:\n",
    "\n",
    "$$\n",
    "f_{\\mathbf{w},b}(\\mathbf{x}^{(i)}) = \\mathbf{w} \\cdot \\mathbf{x}^{(i)} + b \\quad (4)\n",
    "$$\n",
    "\n",
    "In contrast to the last lab, $\\mathbf{w}$ and $\\mathbf{x}^{(i)}$ are vectors rather than scalars, supporting multiple features.\n"
   ]
  },
  {
   "cell_type": "markdown",
   "id": "d2a5cb57-a741-4af2-b992-01f73520f1eb",
   "metadata": {},
   "source": [
    "Below is an implementation of equations (3) and (4). Note that this uses a *standard pattern for this course* where a for loop over all `m` examples is used."
   ]
  },
  {
   "cell_type": "markdown",
   "id": "30eea2b4-3a6c-4abd-8cae-ec3f3d02bab8",
   "metadata": {},
   "source": [
    "#### Task 1: Implement the `compute_cost` below to compute the cost $J(w,b)$.\n",
    "\n",
    "Note that you need to use the dot product for single prediction"
   ]
  },
  {
   "cell_type": "code",
   "execution_count": 21,
   "id": "ebdc03de-c280-45f5-8b12-69c9d6837206",
   "metadata": {},
   "outputs": [],
   "source": [
    "def compute_cost(X, y, w, b): \n",
    "    \"\"\"\n",
    "    Computes the cost function for multiple linear regression using Mean Squared Error.\n",
    "    \n",
    "    Args:\n",
    "      X (ndarray (m,n)): Data, m examples with n features\n",
    "      y (ndarray (m,)) : target values\n",
    "      w (ndarray (n,)) : model weight parameters  \n",
    "      b (scalar)       : model bias parameter\n",
    "      \n",
    "    Returns:\n",
    "      cost (scalar): The cost J(w,b) representing how well the parameters\n",
    "                     fit the training data. Lower cost = better fit.\n",
    "    \"\"\"\n",
    "    ### START CODE HERE ###\n",
    "    \n",
    "    # Step 1: Get the number of training examples\n",
    "    m = X.shape[0]\n",
    "    \n",
    "    # Step 2: Initialize cost accumulator\n",
    "    cost = 0.0\n",
    "    \n",
    "    # Step 3: Loop through each training example\n",
    "    for i in range(m):  # iterate through all examples:     \n",
    "                              \n",
    "        \n",
    "        # Step 4: Calculate prediction for example i using vectorized dot product\n",
    "\n",
    "        #To get the prediction, dot product between the ith row of X, with w and then add b. \n",
    "        f_wb_i = np.dot(X[i], w) + b\n",
    "\n",
    "        \n",
    "        # Step 5: Calculate squared error and add to cost\n",
    "        cost += (f_wb_i - y[i]) ** 2\n",
    "    \n",
    "    # Step 6: Calculate final MSE cost (divide by 2m)\n",
    "    cost = cost / (2 * m)\n",
    "    \n",
    "    ### END CODE HERE ###\n",
    "    return cost"
   ]
  },
  {
   "cell_type": "markdown",
   "id": "b15d3e8f-d533-46c9-ba86-cbdcde46aa92",
   "metadata": {},
   "source": [
    "#### Test your implementation and take the quiz on canvas"
   ]
  },
  {
   "cell_type": "code",
   "execution_count": 22,
   "id": "88744ddc-ad83-4cb2-9f92-cbe2611c09ff",
   "metadata": {
    "scrolled": true
   },
   "outputs": [
    {
     "name": "stdout",
     "output_type": "stream",
     "text": [
      "Cost at optimal w : 223609.44471317978\n"
     ]
    }
   ],
   "source": [
    "# Compute and display cost using our pre-chosen optimal parameters. \n",
    "cost = compute_cost(X_train, y_train, w_init, b_init)\n",
    "print(f'Cost at optimal w : {cost}')"
   ]
  },
  {
   "cell_type": "markdown",
   "id": "61792238-4338-42ad-974d-5f133f4199aa",
   "metadata": {},
   "source": [
    "### Implement Gradient Descent With Multiple Variable Using Loop"
   ]
  },
  {
   "cell_type": "markdown",
   "id": "6ef577a8-64c0-4897-afd3-f407afd0c662",
   "metadata": {},
   "source": [
    "\n",
    "Gradient descent for multiple variables:\n",
    "\n",
    "$$\\begin{align*} \\text{repeat}&\\text{ until convergence:} \\; \\lbrace \\newline\\;\n",
    "& w_j = w_j -  \\alpha \\frac{\\partial J(\\mathbf{w},b)}{\\partial w_j} \\tag{5}  \\; & \\text{for j = 0..n-1}\\newline\n",
    "&b\\ \\ = b -  \\alpha \\frac{\\partial J(\\mathbf{w},b)}{\\partial b}  \\newline \\rbrace\n",
    "\\end{align*}$$\n",
    "\n",
    "where, n is the number of features, parameters $w_j$,  $b$, are updated simultaneously and where  \n",
    "\n",
    "$$\n",
    "\\begin{align}\n",
    "\\frac{\\partial J(\\mathbf{w},b)}{\\partial w_j}  &= \\frac{1}{m} \\sum\\limits_{i = 0}^{m-1} (f_{\\mathbf{w},b}(\\mathbf{x}^{(i)}) - y^{(i)})x_{j}^{(i)} \\tag{6}  \\\\\n",
    "\\frac{\\partial J(\\mathbf{w},b)}{\\partial b}  &= \\frac{1}{m} \\sum\\limits_{i = 0}^{m-1} (f_{\\mathbf{w},b}(\\mathbf{x}^{(i)}) - y^{(i)}) \\tag{7}\n",
    "\\end{align}\n",
    "$$\n",
    "* m is the number of training examples on the data set\n",
    "\n",
    "    \n",
    "*  $f_{\\mathbf{w},b}(\\mathbf{x}^{(i)})$ is the model's prediction for the $i$ th example, while $y^{(i)}$ is the corresponding target value\n",
    "\n",
    "The routine below implements equation (5) above."
   ]
  },
  {
   "cell_type": "markdown",
   "id": "75f221d0-75ab-46a8-bdce-8e42005183a5",
   "metadata": {},
   "source": [
    "#### Task 2: Implement the `compute_gradient` function with Multiple Variables\n",
    "An implementation for calculating the equations (6) and (7) is below. There are many ways to implement this. \n",
    "\n",
    "In this version, you will be asked to use for loops, specifically:\n",
    "\n",
    "- outer loop over all m examples. \n",
    "    - $\\frac{\\partial J(\\mathbf{w},b)}{\\partial b}$ for the example can be computed directly and accumulated\n",
    "    - in a second loop over all n features:\n",
    "        - $\\frac{\\partial J(\\mathbf{w},b)}{\\partial w_j}$ is computed for each $w_j$."
   ]
  },
  {
   "cell_type": "code",
   "execution_count": 24,
   "id": "0b1783bf-5c9e-4f44-9805-f4676aea57ac",
   "metadata": {},
   "outputs": [],
   "source": [
    "def compute_gradient(X, y, w, b): \n",
    "    \"\"\"\n",
    "    Computes the gradient for multiple linear regression using nested loops.\n",
    "    \n",
    "    The gradient tells us which direction to adjust our parameters (w, b) to reduce cost.\n",
    "    For multiple features, we need gradients for each weight parameter and the bias.\n",
    "    \n",
    "    Mathematical foundations:\n",
    "    - dJ/dw_j = (1/m) * Σ(error * x_j) for each feature j\n",
    "    - dJ/db   = (1/m) * Σ(error) across all examples\n",
    "    \n",
    "    Args:\n",
    "      X (ndarray (m,n)): Data, m examples with n features\n",
    "      y (ndarray (m,)) : target values\n",
    "      w (ndarray (n,)) : model parameters  \n",
    "      b (scalar)       : model parameter\n",
    "      \n",
    "    Returns:\n",
    "      dj_dw (ndarray (n,)): The gradient of the cost w.r.t. the parameters w. \n",
    "      dj_db (scalar):       The gradient of the cost w.r.t. the parameter b. \n",
    "    \"\"\"\n",
    "    ### START CODE HERE ###\n",
    "    \n",
    "    # Step 1: Get dimensions - number of examples (m) and features (n)\n",
    "    m, n = X.shape[0], X.shape[1]\n",
    "    \n",
    "    # Step 2: Initialize gradient accumulators\n",
    "    dj_dw = np.zeros((n,))  # Array to store gradients for each weight\n",
    "    dj_db = 0.              # Scalar to store gradient for bias\n",
    "    \n",
    "    # Step 3: Outer loop - iterate through all training examples\n",
    "    for i in range(m):  # YOUR CODE: loop through examples:\n",
    "        \n",
    "        # Step 4: Calculate prediction error for current example\n",
    "        f_wb_i = np.dot(X[i], w) + b\n",
    "        err = f_wb_i - y[i]\n",
    "        \n",
    "        # Step 5: Inner loop - calculate gradient contribution for each feature\n",
    "        for j in range(n): #loop through features\n",
    "            # Gradient for weight j\n",
    "            dj_dw[j] = dj_dw[j] + err * X[i, j]  # Gradient for weight j\n",
    "        \n",
    "        # Step 6: Accumulate gradient for bias (no feature multiplication needed)\n",
    "        dj_db = dj_db + err \n",
    "    \n",
    "    # Step 7: Average the accumulated gradients over all examples\n",
    "    dj_dw = dj_dw / m\n",
    "    dj_db = dj_db / m\n",
    "        \n",
    "    ### END CODE HERE ###\n",
    "    return dj_db, dj_dw"
   ]
  },
  {
   "cell_type": "markdown",
   "id": "8958da6f-da3d-444f-bdfa-ae0426f3a73c",
   "metadata": {},
   "source": [
    "#### Test your implementation\n",
    "\n",
    "You can check if your implementation was correct by running the following test code: Please fill in the blanks in the Canvas quiz accordingly"
   ]
  },
  {
   "cell_type": "code",
   "execution_count": 25,
   "id": "57a8b89f-17ab-49e6-af6c-1672ab8de70b",
   "metadata": {},
   "outputs": [
    {
     "name": "stdout",
     "output_type": "stream",
     "text": [
      "dj_db at initial w,b: -67.82209407939179\n",
      "dj_dw at initial w,b: \n",
      " [ 6.15e+03 -1.18e+02 -6.99e+00 -1.97e+04]\n"
     ]
    }
   ],
   "source": [
    "#Compute and display gradient \n",
    "tmp_dj_db, tmp_dj_dw = compute_gradient(X_train, y_train, w_init, b_init)\n",
    "print(f'dj_db at initial w,b: {tmp_dj_db}')\n",
    "print(f'dj_dw at initial w,b: \\n {tmp_dj_dw}')"
   ]
  },
  {
   "cell_type": "markdown",
   "id": "af78c2ac-c11e-4edd-ac27-607ae3db2d15",
   "metadata": {},
   "source": [
    "#### Task 3: Implement the `gradient_descent` function with Multiple Variables"
   ]
  },
  {
   "cell_type": "code",
   "execution_count": 26,
   "id": "1feb9223-0b9f-48b2-afb0-13b5cfddb770",
   "metadata": {},
   "outputs": [],
   "source": [
    "def gradient_descent(X, y, w_in, b_in, cost_function, gradient_function, alpha, num_iters): \n",
    "    \"\"\"\n",
    "    Performs batch gradient descent to optimize parameters w and b for multiple linear regression.\n",
    "    \n",
    "    This is the main optimization algorithm that iteratively improves our model parameters\n",
    "    by moving them in the direction that reduces cost. Each iteration:\n",
    "    1. Computes gradients (directions to move parameters)\n",
    "    2. Updates parameters using the gradient descent rule\n",
    "    3. Tracks progress for analysis\n",
    "    \n",
    "    Mathematical foundation:\n",
    "    w := w - α * (∂J/∂w)    [Update weights]\n",
    "    b := b - α * (∂J/∂b)    [Update bias]\n",
    "    \n",
    "    Args:\n",
    "      X (ndarray (m,n))   : Data, m examples with n features\n",
    "      y (ndarray (m,))    : target values\n",
    "      w_in (ndarray (n,)) : initial model parameters (starting weights)  \n",
    "      b_in (scalar)       : initial model parameter (starting bias)\n",
    "      cost_function       : function to compute cost J(w,b)\n",
    "      gradient_function   : function to compute gradients ∂J/∂w, ∂J/∂b\n",
    "      alpha (float)       : Learning rate (step size for parameter updates)\n",
    "      num_iters (int)     : number of iterations to run optimization\n",
    "      \n",
    "    Returns:\n",
    "      w (ndarray (n,)) : Optimized weight parameters \n",
    "      b (scalar)       : Optimized bias parameter\n",
    "      J_history (list): Cost at each iteration (for plotting learning curves)\n",
    "    \"\"\"\n",
    "    \n",
    "    # Initialize tracking arrays for visualization and analysis\n",
    "    J_history = []\n",
    "    w = copy.deepcopy(w_in)  # Create copy to avoid modifying input parameters\n",
    "    b = b_in\n",
    "    \n",
    "    # Main optimization loop - iterate for specified number of steps\n",
    "    for i in range(num_iters): # YOUR CODE: range(num_iters) to iterate through all optimization steps:\n",
    "\n",
    "        ### START CODE HERE ###\n",
    "        \n",
    "        # Step 1: Calculate gradients using your gradient function\n",
    "        # This tells us which direction and how much to adjust each parameter\n",
    "        dj_db, dj_dw = gradient_function(X, y, w, b)  # YOUR CODE\n",
    "\n",
    "        # Step 2: Update parameters using gradient descent rule\n",
    "        # Move parameters in opposite direction of gradient (descent)\n",
    "        w = w - alpha * dj_dw\n",
    "        b = b -alpha*dj_db\n",
    "      \n",
    "        # Step 3: Track progress by computing and storing current cost\n",
    "        if i < 100000:  # Prevent memory issues for very long training runs\n",
    "            current_cost = cost_function(X, y, w, b)  # YOUR CODE\n",
    "            J_history.append(current_cost)\n",
    "\n",
    "        ### END CODE HERE ###\n",
    "        \n",
    "        # Display progress periodically (every 10% of total iterations)\n",
    "        if i % math.ceil(num_iters / 10) == 0:\n",
    "            print(f\"Iteration {i:4d}: Cost {J_history[-1]:8.2f}   \")\n",
    "        \n",
    "    return w, b, J_history  # Return optimized parameters and training history"
   ]
  },
  {
   "cell_type": "markdown",
   "id": "0ef25350-b20c-436d-aef6-68fb90091c5c",
   "metadata": {},
   "source": [
    "#### Test Your Gradient Descent Implementation\n",
    "\n",
    "**🧪 Validation Phase: Put Your Algorithm to the Test!**\n",
    "\n",
    "Now it's time to see your gradient descent algorithm in action! The cell below will:\n",
    "\n",
    "**What the test does:**\n",
    "\n",
    "- **Initializes parameters** to zero (clean slate approach)\n",
    "- **Runs 10,000 iterations** of gradient descent optimization  \n",
    "- **Uses learning rate α = 5.0e-7** (carefully chosen for stability)\n",
    "- **Tracks convergence** through the cost history\n",
    "\n",
    "**Expected Results:**\n",
    "\n",
    "- **Final cost** should be significantly lower than initial cost\n",
    "- **Parameters (w, b)** should converge to reasonable values\n",
    "- **Learning curve** should show steady cost reduction\n",
    "\n",
    "**📋 Canvas Quiz Instructions:**\n",
    "\n",
    "1. **Run the cell below** and observe the final parameter values\n",
    "2. **Note the final cost** after 10,000 iterations\n",
    "3. **Record the optimized weights** `w_final` and bias `b_final`\n",
    "4. **Answer the corresponding questions** on Canvas with these values\n",
    "\n",
    "**💡 Success Indicators:**\n",
    "\n",
    "- Cost decreases consistently over iterations\n",
    "- Parameters stabilize to meaningful values\n",
    "- No warning messages or convergence issues\n",
    "\n",
    "Ready to see your implementation work? Run the test below! ⬇️"
   ]
  },
  {
   "cell_type": "code",
   "execution_count": 27,
   "id": "38407f5a-866a-48b6-944b-20a9e06cc211",
   "metadata": {},
   "outputs": [
    {
     "name": "stdout",
     "output_type": "stream",
     "text": [
      "Iteration    0: Cost  2069.28   \n",
      "Iteration 1000: Cost  1430.06   \n",
      "Iteration 2000: Cost  1374.73   \n",
      "Iteration 3000: Cost  1352.70   \n",
      "Iteration 4000: Cost  1343.91   \n",
      "Iteration 5000: Cost  1340.38   \n",
      "Iteration 6000: Cost  1338.94   \n",
      "Iteration 7000: Cost  1338.34   \n",
      "Iteration 8000: Cost  1338.06   \n",
      "Iteration 9000: Cost  1337.92   \n",
      "b,w found by gradient descent: 0.04, [ 0.27 -0.01 -0.04 -0.69] \n",
      "CPU times: user 2.21 s, sys: 145 ms, total: 2.36 s\n",
      "Wall time: 2.28 s\n"
     ]
    }
   ],
   "source": [
    "%%time\n",
    "# initialize parameters\n",
    "initial_w = np.zeros_like(w_init)\n",
    "initial_b = 0.\n",
    "# some gradient descent settings\n",
    "iterations = 10000\n",
    "alpha = 5.0e-7\n",
    "# run gradient descent \n",
    "w_final, b_final, J_hist = gradient_descent(X_train, y_train, initial_w, initial_b,\n",
    "                                                    compute_cost, compute_gradient, \n",
    "                                                    alpha, iterations)\n",
    "print(f\"b,w found by gradient descent: {b_final:0.2f}, {w_final} \")\n"
   ]
  },
  {
   "cell_type": "markdown",
   "id": "34e617e2",
   "metadata": {},
   "source": [
    "#### 📈 Analyzing the Learning Curve: Understanding Convergence Behavior\n",
    "\n",
    "**Why Learning Curves Matter:**\n",
    "\n",
    "Learning curves are your **diagnostic tool** for understanding how well gradient descent is performing.\n",
    "\n",
    "**Two-View Analysis:**\n",
    "\n",
    "- **Left Plot**: Complete training history (full perspective)\n",
    "- **Right Plot**: Tail end focus (detailed convergence behavior)\n",
    "\n",
    "Let's visualize your algorithm's learning journey! 👇"
   ]
  },
  {
   "cell_type": "code",
   "execution_count": 28,
   "id": "6cd611c5-fbc9-42ed-b66f-bc9b2207080f",
   "metadata": {},
   "outputs": [
    {
     "data": {
      "image/png": "[encoded data removed]",
      "text/plain": [
       "<Figure size 1200x400 with 2 Axes>"
      ]
     },
     "metadata": {},
     "output_type": "display_data"
    },
    {
     "name": "stdout",
     "output_type": "stream",
     "text": [
      "\n",
      "==================================================\n",
      " LEARNING CURVE ANALYSIS SUMMARY\n",
      "==================================================\n",
      " Initial Cost:      2.07e+03\n",
      " Final Cost:       1.34e+03\n",
      " Cost Reduction:   35.35%\n",
      " Total Iterations: 10,000\n",
      "==================================================\n"
     ]
    }
   ],
   "source": [
    "# 📊 Visualize the learning curve to analyze gradient descent performance\n",
    "fig, (ax1, ax2) = plt.subplots(1, 2, constrained_layout=True, figsize=(12, 4))\n",
    "\n",
    "# Left plot: Full training history\n",
    "ax1.plot(J_hist, 'b-', linewidth=2, alpha=0.8)\n",
    "ax1.set_title(\" Complete Learning Curve\", fontsize=12, fontweight='bold')\n",
    "ax1.set_ylabel('Cost J(w,b)', fontsize=10)\n",
    "ax1.set_xlabel('Iteration Step', fontsize=10)\n",
    "ax1.grid(True, alpha=0.3)\n",
    "\n",
    "# Right plot: Focus on tail end (last 60% of training)\n",
    "start = 4000\n",
    "tail_iterations = start + np.arange(len(J_hist[start:]))\n",
    "ax2.plot(tail_iterations, J_hist[start:], 'r-', linewidth=2, alpha=0.8)\n",
    "ax2.set_title(\" Convergence Detail (Final Phase)\", fontsize=12, fontweight='bold')\n",
    "ax2.set_ylabel('Cost J(w,b)', fontsize=10)\n",
    "ax2.set_xlabel('Iteration Step', fontsize=10)\n",
    "ax2.grid(True, alpha=0.3)\n",
    "\n",
    "# Add informative annotations\n",
    "if len(J_hist) > 0:\n",
    "    initial_cost = J_hist[0]\n",
    "    final_cost = J_hist[-1]\n",
    "    cost_reduction = ((initial_cost - final_cost) / initial_cost) * 100\n",
    "    \n",
    "    # Add cost reduction info to the plots\n",
    "    ax1.text(0.02, 0.98, f'Initial Cost: {initial_cost:.2e}', \n",
    "             transform=ax1.transAxes, fontsize=9, verticalalignment='top',\n",
    "             bbox=dict(boxstyle='round', facecolor='lightblue', alpha=0.8))\n",
    "    \n",
    "    ax2.text(0.02, 0.98, f'Final Cost: {final_cost:.2e}\\nReduction: {cost_reduction:.1f}%', \n",
    "             transform=ax2.transAxes, fontsize=9, verticalalignment='top',\n",
    "             bbox=dict(boxstyle='round', facecolor='lightgreen', alpha=0.8))\n",
    "\n",
    "plt.suptitle(' Gradient Descent Learning Curve Analysis', fontsize=14, fontweight='bold')\n",
    "plt.show()\n",
    "\n",
    "# 📋 Performance Summary\n",
    "print(\"\\n\" + \"=\"*50)\n",
    "print(\" LEARNING CURVE ANALYSIS SUMMARY\")\n",
    "print(\"=\"*50)\n",
    "print(f\" Initial Cost:      {J_hist[0]:,.2e}\")\n",
    "print(f\" Final Cost:       {J_hist[-1]:,.2e}\")\n",
    "print(f\" Cost Reduction:   {((J_hist[0] - J_hist[-1]) / J_hist[0]) * 100:.2f}%\")\n",
    "print(f\" Total Iterations: {len(J_hist):,}\")\n",
    "print(\"=\"*50)"
   ]
  },
  {
   "cell_type": "markdown",
   "id": "4b8b876d-3f98-4ee8-af18-558a2636e932",
   "metadata": {},
   "source": [
    "*These results are not inspiring*! Cost is still declining and our predictions are not very accurate. Let's next explore how to improve on this."
   ]
  },
  {
   "cell_type": "markdown",
   "id": "3f9980fe-495b-4cb4-a7e3-b39c44bf5dfd",
   "metadata": {},
   "source": [
    "## Feature Scaling in Gradient Descent\n",
    "\n",
    "Let's view the dataset and its features by plotting each feature versus price."
   ]
  },
  {
   "cell_type": "code",
   "execution_count": 29,
   "id": "0e310d7b-0ad5-4e6f-8546-d104631c01f1",
   "metadata": {
    "scrolled": true
   },
   "outputs": [
    {
     "data": {
      "image/png": "[encoded data removed]",
      "text/plain": [
       "<Figure size 1200x300 with 4 Axes>"
      ]
     },
     "metadata": {},
     "output_type": "display_data"
    }
   ],
   "source": [
    "X_features = ['size(sqft)','bedrooms','floors','age']\n",
    "fig,ax=plt.subplots(1, 4, figsize=(12, 3), sharey=True)\n",
    "for i in range(len(ax)):\n",
    "    ax[i].scatter(X_train[:,i],y_train)\n",
    "    ax[i].set_xlabel(X_features[i])\n",
    "ax[0].set_ylabel(\"Price (1000's)\")\n",
    "plt.show()"
   ]
  },
  {
   "cell_type": "markdown",
   "id": "2e543682-f4cd-41b2-b22a-41c6e6ad07c6",
   "metadata": {},
   "source": [
    "As illustrated above, the features exhibit varying scales, a factor that holds significant importance in the gradient descent optimization algorithms, particularly when features span disparate orders of magnitude. Effective feature scaling is critical to ensure optimal convergence and performance. Two commonly used ways for feature scaling include: \n",
    " [Standard Scaling](https://scikit-learn.org/stable/modules/generated/sklearn.preprocessing.StandardScaler.html) (also called z-score normalization or standardization) and [MinMax Scaling](https://scikit-learn.org/stable/modules/generated/sklearn.preprocessing.MinMaxScaler.html)"
   ]
  },
  {
   "cell_type": "markdown",
   "id": "edf7d8be-c979-4822-bdfc-85288cd5e8fe",
   "metadata": {},
   "source": [
    "\n",
    "### z-score normalization \n",
    "After z-score normalization, all features will have a mean of 0 and a standard deviation of 1.\n",
    "\n",
    "$$\n",
    "\\begin{aligned}\n",
    "\\mu_j &= \\frac{1}{m} \\sum_{i=0}^{m-1} x^{(i)}_j \\quad (9) \\\\\n",
    "\\sigma^2_j &= \\frac{1}{m} \\sum_{i=0}^{m-1} \\big(x^{(i)}_j - \\mu_j\\big)^2 \\quad (10)\n",
    "\\end{aligned}\n",
    "$$\n",
    "\n",
    "\n",
    "To implement z-score normalization, adjust your input values as shown in this formula:\n",
    "\n",
    "$$\n",
    "x^{(i)}_j = \\frac{x^{(i)}_j - \\mu_j}{\\sigma_j} \\quad (8)\n",
    "$$\n",
    "\n",
    "where $j$ indexes a feature (a column in the matrix $\\mathbf{X}$),  \n",
    "$\\mu_j$ is the mean of all the values for feature $j$, and  \n",
    "$\\sigma_j$ is the standard deviation of feature $j$.\n",
    "\n",
    "\n",
    ">**Implementation Note:** When normalizing the features, it is important\n",
    "to store the values used for normalization - the mean value and the standard deviation used for the computations. After learning the parameters\n",
    "from the model, we often want to predict the prices of houses we have not\n",
    "seen before. Given a new x value (living room area and number of bed-\n",
    "rooms), we must first normalize x using the mean and standard deviation\n",
    "that we had previously computed from the training set.\n"
   ]
  },
  {
   "cell_type": "markdown",
   "id": "a2ed9b9f-251d-4e9d-909a-3fac1112ec4f",
   "metadata": {},
   "source": [
    "#### Task 4: Implementation the `zscore_normalize_features` function below"
   ]
  },
  {
   "cell_type": "code",
   "execution_count": null,
   "id": "f4e6393d-90b1-42f0-a633-0a13e58c0e1c",
   "metadata": {},
   "outputs": [],
   "source": [
    "def zscore_normalize_features(X):\n",
    "    \"\"\"\n",
    "    Computes z-score normalization (standardization) of features by column.\n",
    "    \n",
    "    Z-score normalization transforms each feature to have:\n",
    "    - Mean (μ) = 0 \n",
    "    - Standard deviation (σ) = 1\n",
    "    \n",
    "    Mathematical Formula: x_norm = (x - μ) / σ\n",
    "    \n",
    "    This is crucial for gradient descent because:\n",
    "    - Features on different scales can cause slow/poor convergence\n",
    "    - Normalized features allow higher learning rates\n",
    "    - Creates a more spherical cost function landscape\n",
    "    \n",
    "    Args:\n",
    "      X (ndarray (m,n)): Input data matrix with m examples and n features\n",
    "                         Each column represents one feature across all examples\n",
    "      \n",
    "    Returns:\n",
    "      X_norm (ndarray (m,n)): Feature-normalized data (same shape as input)\n",
    "                              Each feature now has mean≈0, std≈1  \n",
    "      mu (ndarray (n,))     : Mean of each original feature (for future use)\n",
    "      sigma (ndarray (n,))  : Standard deviation of each original feature\n",
    "    \"\"\"\n",
    "    ### START CODE HERE ###\n",
    "    \n",
    "    # Step 1: Calculate mean of each feature (column-wise operation)\n",
    "    # Hint: Use np.mean() with appropriate axis parameter\n",
    "    mu = # YOUR CODE - compute mean along the correct axis\n",
    "    \n",
    "    # Step 2: Calculate standard deviation of each feature (column-wise)\n",
    "    # Hint: Use np.std() with appropriate axis parameter  \n",
    "    sigma = # YOUR CODE - compute std deviation along the correct axis\n",
    "    \n",
    "    # Step 3: Apply z-score normalization formula: (X - μ) / σ\n",
    "    # This transforms each feature to have mean=0, std=1\n",
    "    # Hint: Broadcasting will automatically handle the element-wise operations\n",
    "    X_norm = # YOUR CODE - apply normalization formula\n",
    "    \n",
    "    ### END CODE HERE ###\n",
    "    \n",
    "    return (X_norm, mu, sigma)\n",
    " "
   ]
  },
  {
   "cell_type": "markdown",
   "id": "ebb317e7-28da-47da-b1e9-94059e6e7c44",
   "metadata": {},
   "source": [
    "Let's use your implementation to normalize the data and compare it to the original data."
   ]
  },
  {
   "cell_type": "code",
   "execution_count": null,
   "id": "fce7be4e-9931-41c4-b5e1-465ba28aaaff",
   "metadata": {},
   "outputs": [],
   "source": [
    "# normalize the original features\n",
    "X_norm, X_mu, X_sigma = zscore_normalize_features(X_train)\n",
    "print(f\"X_mu = {X_mu}, \\nX_sigma = {X_sigma}\")\n",
    "print(f\"Peak to Peak range by column in Raw        X:{np.ptp(X_train,axis=0)}\")   \n",
    "print(f\"Peak to Peak range by column in Normalized X:{np.ptp(X_norm,axis=0)}\")"
   ]
  },
  {
   "cell_type": "markdown",
   "id": "fa1c09e0-d591-4380-a337-e85534088d89",
   "metadata": {},
   "source": [
    "#### Task 5: use the `StandardScaler` in Sklearn to check your implementation above and see whether you can get the same result"
   ]
  },
  {
   "cell_type": "code",
   "execution_count": null,
   "id": "93830020-d84b-4321-b3b3-2d67ce4cdd92",
   "metadata": {},
   "outputs": [],
   "source": [
    "# please code below, ensure that the variable names match the printed information.\n"
   ]
  },
  {
   "cell_type": "code",
   "execution_count": null,
   "id": "5d5c67b0-f0cd-4542-9802-85350a213717",
   "metadata": {},
   "outputs": [],
   "source": [
    "print(f\"X_mu_sklearn = {X_mu_sklearn}, \\nX_sigma_sklearn = {X_sigma_sklearn}\")\n",
    "print(f\"Peak to Peak range by column in Raw        X:{np.ptp(X_train,axis=0)}\")   \n",
    "print(f\"Peak to Peak range by column in Normalized X:{np.ptp(X_norm,axis=0)}\")"
   ]
  },
  {
   "cell_type": "markdown",
   "id": "9df0ed40-93b1-440a-a0c0-c1af7e80f581",
   "metadata": {},
   "source": [
    "After feature scaling with z-score normalization, let's visualize the features again."
   ]
  },
  {
   "cell_type": "code",
   "execution_count": null,
   "id": "46b481a7-3d58-4974-965e-a60e436152e2",
   "metadata": {},
   "outputs": [],
   "source": [
    "mu     = np.mean(X_train,axis=0)   \n",
    "sigma  = np.std(X_train,axis=0) \n",
    "X_mean = (X_train - mu)\n",
    "X_norm = (X_train - mu)/sigma      \n",
    "\n",
    "fig,ax=plt.subplots(1, 3, figsize=(12, 3))\n",
    "ax[0].scatter(X_train[:,0], X_train[:,3])\n",
    "ax[0].set_xlabel(X_features[0]); ax[0].set_ylabel(X_features[3]);\n",
    "ax[0].set_title(\"unnormalized\")\n",
    "ax[0].axis('equal')\n",
    "\n",
    "ax[1].scatter(X_mean[:,0], X_mean[:,3])\n",
    "ax[1].set_xlabel(X_features[0]); ax[0].set_ylabel(X_features[3]);\n",
    "ax[1].set_title(r\"X - $\\mu$\")\n",
    "ax[1].axis('equal')\n",
    "\n",
    "ax[2].scatter(X_norm[:,0], X_norm[:,3])\n",
    "ax[2].set_xlabel(X_features[0]); ax[0].set_ylabel(X_features[3]);\n",
    "ax[2].set_title(r\"Z-score normalized\")\n",
    "ax[2].axis('equal')\n",
    "plt.tight_layout(rect=[0, 0.03, 1, 0.95])\n",
    "fig.suptitle(\"distribution of features before, during, after normalization\")\n",
    "plt.show()"
   ]
  },
  {
   "cell_type": "markdown",
   "id": "4b439e3e-e745-4b0a-82d1-f3f978a9fd0e",
   "metadata": {},
   "source": [
    "The plot above shows the relationship between two of the training set parameters, \"age\" and \"size(sqft)\". *These are plotted with equal scale*. \n",
    "\n",
    "- Left: Unnormalized: The range of values or the variance of the 'size(sqft)' feature is much larger than that of age\n",
    "- Middle: The first step removes the mean or average value from each feature. This leaves features that are centered around zero. It's difficult to see the difference for the 'age' feature, but 'size(sqft)' is clearly around zero.\n",
    "- Right: The second step divides by the standard deviation. This leaves both features centered at zero with a similar scale."
   ]
  },
  {
   "cell_type": "markdown",
   "id": "b1209b68-03d6-4b0e-9ce7-9048419a402d",
   "metadata": {},
   "source": [
    "After feature scaling, the peak to peak range of each column is reduced from a factor of thousands to a factor of 2-3 by normalization."
   ]
  },
  {
   "cell_type": "code",
   "execution_count": null,
   "id": "e5f3d96b-e01b-4a44-b1bc-1565a8e16033",
   "metadata": {},
   "outputs": [],
   "source": [
    "from scipy.stats import norm\n",
    "def norm_plot(ax, data):\n",
    "    scale = (np.max(data) - np.min(data))*0.2\n",
    "    x = np.linspace(np.min(data)-scale,np.max(data)+scale,50)\n",
    "    _,bins, _ = ax.hist(data, x, color=\"xkcd:azure\")\n",
    "    #ax.set_ylabel(\"Count\")\n",
    "    \n",
    "    mu = np.mean(data); \n",
    "    std = np.std(data); \n",
    "    dist = norm.pdf(bins, loc=mu, scale = std)\n",
    "    \n",
    "    axr = ax.twinx()\n",
    "    axr.plot(bins,dist, color = \"orangered\", lw=2)\n",
    "    axr.set_ylim(bottom=0)\n",
    "    axr.axis('off')"
   ]
  },
  {
   "cell_type": "code",
   "execution_count": null,
   "id": "41be69a1-b567-4518-8ebf-69c18126ed92",
   "metadata": {
    "scrolled": true
   },
   "outputs": [],
   "source": [
    "fig,ax=plt.subplots(1, 4, figsize=(12, 3))\n",
    "for i in range(len(ax)):\n",
    "    norm_plot(ax[i],X_train[:,i],)\n",
    "    ax[i].set_xlabel(X_features[i])\n",
    "ax[0].set_ylabel(\"count\");\n",
    "fig.suptitle(\"distribution of features before normalization\")\n",
    "plt.show()\n",
    "fig,ax=plt.subplots(1,4,figsize=(12,3))\n",
    "for i in range(len(ax)):\n",
    "    norm_plot(ax[i],X_norm[:,i],)\n",
    "    ax[i].set_xlabel(X_features[i])\n",
    "ax[0].set_ylabel(\"count\"); \n",
    "fig.suptitle(\"distribution of features after normalization\")\n",
    "\n",
    "plt.show()"
   ]
  },
  {
   "cell_type": "markdown",
   "id": "02f16424-2a60-4173-9852-ec5b15e09345",
   "metadata": {},
   "source": [
    "#### Task 6:  Testing Gradient Descent with Normalized Data\n",
    "\n",
    "Now for the **exciting part** - let's see how feature scaling transforms our gradient descent performance! \n",
    "\n",
    "**What to expect:**\n",
    "\n",
    "- **Faster and better convergence** - The algorithm should reach optimal values much quicker.\n",
    "\n",
    "**Why this works:** When all features are on the same scale, gradient descent can take more direct paths toward the minimum, rather than zigzagging due to different feature magnitudes."
   ]
  },
  {
   "cell_type": "code",
   "execution_count": null,
   "id": "71b11fbd-866a-4dd8-888c-a44aa7e1aad7",
   "metadata": {},
   "outputs": [],
   "source": [
    "%%time\n",
    "# initialize parameters\n",
    "initial_w = np.zeros_like(w_init)\n",
    "initial_b = 0.\n",
    "# some gradient descent settings\n",
    "iterations = 10000\n",
    "alpha = 1.0e-3\n",
    "# run gradient descent \n",
    "w_norm_final, b_norm_final, J_norm_hist = gradient_descent(X_norm, y_train, initial_w, initial_b,\n",
    "                                                    compute_cost, compute_gradient, \n",
    "                                                    alpha, iterations)\n",
    "print(f\"b,w found by gradient descent: {b_norm_final:0.2f},{w_norm_final} \")\n"
   ]
  },
  {
   "cell_type": "code",
   "execution_count": null,
   "id": "51ab25be-a0ff-4628-87dd-190236e5a716",
   "metadata": {},
   "outputs": [],
   "source": [
    "# plot cost versus iteration  \n",
    "fig, (ax1, ax2) = plt.subplots(1, 2, constrained_layout=True, figsize=(12, 4))\n",
    "ax1.plot(J_norm_hist)\n",
    "start=4000\n",
    "ax2.plot(start + np.arange(len(J_norm_hist[start:])), J_norm_hist[start:])\n",
    "ax1.set_title(\"Cost vs. iteration\");  ax2.set_title(\"Cost vs. iteration (tail)\")\n",
    "ax1.set_ylabel('Cost')             ;  ax2.set_ylabel('Cost') \n",
    "ax1.set_xlabel('iteration step')   ;  ax2.set_xlabel('iteration step') \n",
    "plt.show()"
   ]
  },
  {
   "attachments": {},
   "cell_type": "markdown",
   "id": "64cf6071-073c-4a04-993d-091d4cc8bf81",
   "metadata": {},
   "source": [
    "As evident from the above learning curve, the reduction in training cost accelerated notably after feature scaling. This enhancement underscores the pivotal role of feature scaling in expediting the convergence of gradient descent algorithms. Without proper scaling, these algorithms often endure oscillations, significantly delaying their journey towards the minimum point. Thus, feature scaling proves indispensable, particularly when dealing with features of varying orders of magnitude.\n"
   ]
  },
  {
   "cell_type": "markdown",
   "id": "9a95cc63",
   "metadata": {},
   "source": [
    "##  Bonus Exploration: Learning Rate Sensitivity Analysis\n",
    "\n",
    "**Experiment Goal:** Investigate how different learning rates affect gradient descent performance with and without feature normalization.\n",
    "\n",
    "###  What You'll Discover:\n",
    "\n",
    "**Research Questions:**\n",
    "\n",
    "1. How does learning rate choice impact convergence with unnormalized data?\n",
    "2. Why can normalized data tolerate much larger learning rates?\n",
    "3. What happens when learning rates are too high or too low?\n",
    "\n",
    "*Try plotting the cost curves side-by-side to visualize the dramatic difference! and share your insights below*"
   ]
  },
  {
   "cell_type": "markdown",
   "id": "0938e661",
   "metadata": {},
   "source": [
    "##  Chapter Summary: Gradient Descent for Multiple Linear Regression & Feature Scaling\n",
    "\n",
    "**Congratulations!** You’ve taken your understanding of multiple linear regression a step further by learning how to train it using gradient descent. Along the way, you also discovered how **feature scaling** can dramatically improve the efficiency of optimization. Let’s consolidate what you’ve learned:\n",
    "\n",
    "###  Key Achievements in This Lab\n",
    "\n",
    "**1. Gradient Descent for Multiple Linear Regression**\n",
    "\n",
    "- ✅ Extended simple linear regression to handle multiple features simultaneously\n",
    "- ✅ Mastered the mathematical foundations: $f_{\\mathbf{w},b}(\\mathbf{x}) = \\mathbf{w} \\cdot \\mathbf{x} + b$\n",
    "- ✅ Implemented **single instance prediction** using vectorized `np.dot()` operations\n",
    "- ✅ Built gradient descent for multiple variables using **nested for loops**\n",
    "\n",
    "\n",
    "**2. Feature Scaling Breakthrough** \n",
    "\n",
    "- ✅ Discovered why feature scaling is **critical** for gradient descent optimization\n",
    "- ✅ Implemented z-score normalization from scratch: $x^{(i)}_j = \\frac{x^{(i)}_j - \\mu_j}{\\sigma_j}$\n",
    "- ✅ Witnessed **dramatic performance improvements** \n",
    "- ✅ Understood the optimization landscape transformation\n",
    "\n",
    "### 🔄 What We Built vs. What's Coming Next\n",
    "\n",
    "**This Lab - Loop-Based Implementation:**\n",
    "\n",
    "- Single prediction: **Vectorized** with `np.dot()`\n",
    "- Cost computation: **For loop** over all training examples\n",
    "- Gradient computation: **Nested for loops** over examples and features\n",
    "- Perfect for **learning the mathematics** step-by-step\n",
    "\n",
    "**Next Lab - Fully Vectorized Implementation:**\n",
    "\n",
    "- **All operations** will be vectorized using NumPy matrix operations\n",
    "- Eliminate **all for loops** for maximum computational efficiency\n",
    "- Process **entire datasets** in single matrix operations\n",
    "- Production-ready, **scalable** implementations\n",
    "\n",
    "###  Why This Progressive Approach Matters\n",
    "\n",
    "\n",
    "**Performance Evolution:**\n",
    "\n",
    "- **Current**: Single prediction vectorized, batch processing with loops\n",
    "- **Next**: Complete vectorization for production-scale performance\n",
    "- **Impact**: From educational clarity to industrial-strength efficiency\n",
    "\n",
    "\n",
    "###  What Awaits in the Next Lab\n",
    "\n",
    "**Fully Vectorized Gradient Descent:**\n",
    "\n",
    "- Matrix operations replacing all loops\n",
    "- Simultaneous processing of entire datasets\n",
    "- Production-level computational efficiency\n",
    "- Foundation for DL techniques\n",
    "\n",
    "**Bottom Line:** You've built rock-solid mathematical foundations using a clarity-first approach. Next, we'll transform this understanding into lightning-fast, production-ready implementations!"
   ]
  },
  {
   "cell_type": "markdown",
   "id": "37ada253-e6f5-471b-bbff-7d2914e0891d",
   "metadata": {},
   "source": [
    "##  Reference\n",
    "\n",
    "https://www.deeplearning.ai/"
   ]
  },
  {
   "cell_type": "code",
   "execution_count": null,
   "id": "4d9e4c1b-a4cf-480a-8efb-9ba3adba5bdb",
   "metadata": {},
   "outputs": [],
   "source": []
  }
 ],
 "metadata": {
  "kernelspec": {
   "display_name": "stat362-py3.12",
   "language": "python",
   "name": "python3"
  },
  "language_info": {
   "codemirror_mode": {
    "name": "ipython",
    "version": 3
   },
   "file_extension": ".py",
   "mimetype": "text/x-python",
   "name": "python",
   "nbconvert_exporter": "python",
   "pygments_lexer": "ipython3",
   "version": "3.12.11"
  }
 },
 "nbformat": 4,
 "nbformat_minor": 5
}
